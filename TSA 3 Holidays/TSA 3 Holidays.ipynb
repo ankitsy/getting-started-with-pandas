{
 "cells": [
  {
   "cell_type": "code",
   "execution_count": 3,
   "metadata": {},
   "outputs": [
    {
     "data": {
      "text/html": [
       "<div>\n",
       "<style scoped>\n",
       "    .dataframe tbody tr th:only-of-type {\n",
       "        vertical-align: middle;\n",
       "    }\n",
       "\n",
       "    .dataframe tbody tr th {\n",
       "        vertical-align: top;\n",
       "    }\n",
       "\n",
       "    .dataframe thead th {\n",
       "        text-align: right;\n",
       "    }\n",
       "</style>\n",
       "<table border=\"1\" class=\"dataframe\">\n",
       "  <thead>\n",
       "    <tr style=\"text-align: right;\">\n",
       "      <th></th>\n",
       "      <th>Open</th>\n",
       "      <th>High</th>\n",
       "      <th>Low</th>\n",
       "      <th>Close</th>\n",
       "      <th>Volume</th>\n",
       "    </tr>\n",
       "  </thead>\n",
       "  <tbody>\n",
       "    <tr>\n",
       "      <th>0</th>\n",
       "      <td>144.88</td>\n",
       "      <td>145.30</td>\n",
       "      <td>143.10</td>\n",
       "      <td>143.50</td>\n",
       "      <td>14277848</td>\n",
       "    </tr>\n",
       "    <tr>\n",
       "      <th>1</th>\n",
       "      <td>143.69</td>\n",
       "      <td>144.79</td>\n",
       "      <td>142.72</td>\n",
       "      <td>144.09</td>\n",
       "      <td>21569557</td>\n",
       "    </tr>\n",
       "    <tr>\n",
       "      <th>2</th>\n",
       "      <td>143.02</td>\n",
       "      <td>143.50</td>\n",
       "      <td>142.41</td>\n",
       "      <td>142.73</td>\n",
       "      <td>24128782</td>\n",
       "    </tr>\n",
       "    <tr>\n",
       "      <th>3</th>\n",
       "      <td>142.90</td>\n",
       "      <td>144.75</td>\n",
       "      <td>142.90</td>\n",
       "      <td>144.18</td>\n",
       "      <td>19201712</td>\n",
       "    </tr>\n",
       "    <tr>\n",
       "      <th>4</th>\n",
       "      <td>144.11</td>\n",
       "      <td>145.95</td>\n",
       "      <td>143.37</td>\n",
       "      <td>145.06</td>\n",
       "      <td>21090636</td>\n",
       "    </tr>\n",
       "  </tbody>\n",
       "</table>\n",
       "</div>"
      ],
      "text/plain": [
       "     Open    High     Low   Close    Volume\n",
       "0  144.88  145.30  143.10  143.50  14277848\n",
       "1  143.69  144.79  142.72  144.09  21569557\n",
       "2  143.02  143.50  142.41  142.73  24128782\n",
       "3  142.90  144.75  142.90  144.18  19201712\n",
       "4  144.11  145.95  143.37  145.06  21090636"
      ]
     },
     "execution_count": 3,
     "metadata": {},
     "output_type": "execute_result"
    }
   ],
   "source": [
    "'''\n",
    "Data is w/out dates, create datetime index 7/1/2017 to 7/21/2017\n",
    "For US: we import class US Federal calender which is available for example on pandas tseries holiday. Step below:\n",
    "    -classes to be imported:\n",
    "        - from pandas holiday import us federal calender\n",
    "        - from pandas offsets import custom business calender \n",
    "    - make a variable with custombusinesscaleneder with us federal calender\n",
    "    - set it as index and use the variable as freq\n",
    "   \n",
    "For Custom Calender eg india, we can make one:\n",
    "    - copy us federal holiday class and edit\n",
    "    - \n",
    "    \n",
    "    \n",
    "\n",
    "Build custom business day freq \n",
    "\n",
    "'''\n",
    "import pandas as pd\n",
    "df = pd.read_csv('aapl_no_dates.csv')\n",
    "df.head(5)"
   ]
  },
  {
   "cell_type": "code",
   "execution_count": 4,
   "metadata": {},
   "outputs": [
    {
     "data": {
      "text/plain": [
       "DatetimeIndex(['2017-07-03', '2017-07-04', '2017-07-05', '2017-07-06',\n",
       "               '2017-07-07', '2017-07-10', '2017-07-11', '2017-07-12',\n",
       "               '2017-07-13', '2017-07-14', '2017-07-17', '2017-07-18',\n",
       "               '2017-07-19', '2017-07-20', '2017-07-21'],\n",
       "              dtype='datetime64[ns]', freq='B')"
      ]
     },
     "execution_count": 4,
     "metadata": {},
     "output_type": "execute_result"
    }
   ],
   "source": [
    "#if we use B as freq, it will not include holidays, stocks dont trade on holidays, so we use custom freq\n",
    "pd.date_range(start='7/1/2017', end='7/21/2017', freq='B') "
   ]
  },
  {
   "cell_type": "code",
   "execution_count": 18,
   "metadata": {},
   "outputs": [],
   "source": [
    "#FOR US FEDERAL HOLIDAY CALENDER\n",
    "#STEP1:\n",
    "#to create a new freq, we use 2 classes from pandas and CREATE A VARIABLE wth custombusinessdays\n",
    "from pandas.tseries.holiday import USFederalHolidayCalendar\n",
    "from pandas.tseries.offsets import CustomBusinessDay\n",
    "\n",
    "NewF = CustomBusinessDay(calendar=USFederalHolidayCalendar())"
   ]
  },
  {
   "cell_type": "code",
   "execution_count": 20,
   "metadata": {},
   "outputs": [
    {
     "data": {
      "text/plain": [
       "DatetimeIndex(['2017-07-03', '2017-07-05', '2017-07-06', '2017-07-07',\n",
       "               '2017-07-10', '2017-07-11', '2017-07-12', '2017-07-13',\n",
       "               '2017-07-14', '2017-07-17', '2017-07-18', '2017-07-19',\n",
       "               '2017-07-20', '2017-07-21'],\n",
       "              dtype='datetime64[ns]', freq='C')"
      ]
     },
     "execution_count": 20,
     "metadata": {},
     "output_type": "execute_result"
    }
   ],
   "source": [
    "#STEP2:\n",
    "#create a Range with Custom Freq\n",
    "rng = pd.date_range(start='7/1/2017', end='7/21/2017', freq=NewF)\n",
    "rng"
   ]
  },
  {
   "cell_type": "code",
   "execution_count": 22,
   "metadata": {},
   "outputs": [
    {
     "data": {
      "text/html": [
       "<div>\n",
       "<style scoped>\n",
       "    .dataframe tbody tr th:only-of-type {\n",
       "        vertical-align: middle;\n",
       "    }\n",
       "\n",
       "    .dataframe tbody tr th {\n",
       "        vertical-align: top;\n",
       "    }\n",
       "\n",
       "    .dataframe thead th {\n",
       "        text-align: right;\n",
       "    }\n",
       "</style>\n",
       "<table border=\"1\" class=\"dataframe\">\n",
       "  <thead>\n",
       "    <tr style=\"text-align: right;\">\n",
       "      <th></th>\n",
       "      <th>Open</th>\n",
       "      <th>High</th>\n",
       "      <th>Low</th>\n",
       "      <th>Close</th>\n",
       "      <th>Volume</th>\n",
       "    </tr>\n",
       "  </thead>\n",
       "  <tbody>\n",
       "    <tr>\n",
       "      <th>2017-07-03</th>\n",
       "      <td>144.88</td>\n",
       "      <td>145.30</td>\n",
       "      <td>143.10</td>\n",
       "      <td>143.50</td>\n",
       "      <td>14277848</td>\n",
       "    </tr>\n",
       "    <tr>\n",
       "      <th>2017-07-05</th>\n",
       "      <td>143.69</td>\n",
       "      <td>144.79</td>\n",
       "      <td>142.72</td>\n",
       "      <td>144.09</td>\n",
       "      <td>21569557</td>\n",
       "    </tr>\n",
       "    <tr>\n",
       "      <th>2017-07-06</th>\n",
       "      <td>143.02</td>\n",
       "      <td>143.50</td>\n",
       "      <td>142.41</td>\n",
       "      <td>142.73</td>\n",
       "      <td>24128782</td>\n",
       "    </tr>\n",
       "    <tr>\n",
       "      <th>2017-07-07</th>\n",
       "      <td>142.90</td>\n",
       "      <td>144.75</td>\n",
       "      <td>142.90</td>\n",
       "      <td>144.18</td>\n",
       "      <td>19201712</td>\n",
       "    </tr>\n",
       "    <tr>\n",
       "      <th>2017-07-10</th>\n",
       "      <td>144.11</td>\n",
       "      <td>145.95</td>\n",
       "      <td>143.37</td>\n",
       "      <td>145.06</td>\n",
       "      <td>21090636</td>\n",
       "    </tr>\n",
       "    <tr>\n",
       "      <th>2017-07-11</th>\n",
       "      <td>144.73</td>\n",
       "      <td>145.85</td>\n",
       "      <td>144.38</td>\n",
       "      <td>145.53</td>\n",
       "      <td>19781836</td>\n",
       "    </tr>\n",
       "    <tr>\n",
       "      <th>2017-07-12</th>\n",
       "      <td>145.87</td>\n",
       "      <td>146.18</td>\n",
       "      <td>144.82</td>\n",
       "      <td>145.74</td>\n",
       "      <td>24884478</td>\n",
       "    </tr>\n",
       "    <tr>\n",
       "      <th>2017-07-13</th>\n",
       "      <td>145.50</td>\n",
       "      <td>148.49</td>\n",
       "      <td>145.44</td>\n",
       "      <td>147.77</td>\n",
       "      <td>25199373</td>\n",
       "    </tr>\n",
       "    <tr>\n",
       "      <th>2017-07-14</th>\n",
       "      <td>147.97</td>\n",
       "      <td>149.33</td>\n",
       "      <td>147.33</td>\n",
       "      <td>149.04</td>\n",
       "      <td>20132061</td>\n",
       "    </tr>\n",
       "    <tr>\n",
       "      <th>2017-07-17</th>\n",
       "      <td>148.82</td>\n",
       "      <td>150.90</td>\n",
       "      <td>148.57</td>\n",
       "      <td>149.56</td>\n",
       "      <td>23793456</td>\n",
       "    </tr>\n",
       "    <tr>\n",
       "      <th>2017-07-18</th>\n",
       "      <td>149.20</td>\n",
       "      <td>150.13</td>\n",
       "      <td>148.67</td>\n",
       "      <td>150.08</td>\n",
       "      <td>17868792</td>\n",
       "    </tr>\n",
       "    <tr>\n",
       "      <th>2017-07-19</th>\n",
       "      <td>150.48</td>\n",
       "      <td>151.42</td>\n",
       "      <td>149.95</td>\n",
       "      <td>151.02</td>\n",
       "      <td>20922969</td>\n",
       "    </tr>\n",
       "    <tr>\n",
       "      <th>2017-07-20</th>\n",
       "      <td>151.50</td>\n",
       "      <td>151.74</td>\n",
       "      <td>150.19</td>\n",
       "      <td>150.34</td>\n",
       "      <td>17243748</td>\n",
       "    </tr>\n",
       "    <tr>\n",
       "      <th>2017-07-21</th>\n",
       "      <td>149.99</td>\n",
       "      <td>150.44</td>\n",
       "      <td>148.88</td>\n",
       "      <td>150.27</td>\n",
       "      <td>26252630</td>\n",
       "    </tr>\n",
       "  </tbody>\n",
       "</table>\n",
       "</div>"
      ],
      "text/plain": [
       "              Open    High     Low   Close    Volume\n",
       "2017-07-03  144.88  145.30  143.10  143.50  14277848\n",
       "2017-07-05  143.69  144.79  142.72  144.09  21569557\n",
       "2017-07-06  143.02  143.50  142.41  142.73  24128782\n",
       "2017-07-07  142.90  144.75  142.90  144.18  19201712\n",
       "2017-07-10  144.11  145.95  143.37  145.06  21090636\n",
       "2017-07-11  144.73  145.85  144.38  145.53  19781836\n",
       "2017-07-12  145.87  146.18  144.82  145.74  24884478\n",
       "2017-07-13  145.50  148.49  145.44  147.77  25199373\n",
       "2017-07-14  147.97  149.33  147.33  149.04  20132061\n",
       "2017-07-17  148.82  150.90  148.57  149.56  23793456\n",
       "2017-07-18  149.20  150.13  148.67  150.08  17868792\n",
       "2017-07-19  150.48  151.42  149.95  151.02  20922969\n",
       "2017-07-20  151.50  151.74  150.19  150.34  17243748\n",
       "2017-07-21  149.99  150.44  148.88  150.27  26252630"
      ]
     },
     "execution_count": 22,
     "metadata": {},
     "output_type": "execute_result"
    }
   ],
   "source": [
    "#STEP3:\n",
    "#use rng with dataframe \n",
    "df = df.set_index(rng, inplace=True)\n",
    "df"
   ]
  },
  {
   "cell_type": "code",
   "execution_count": 31,
   "metadata": {},
   "outputs": [],
   "source": [
    "#CREATING CUSTOM HOLIDAY CALENDER\n",
    "#STEP1: inport AbstractHolidayCalender from pandas\n",
    "#Use it to create a holiday list\n",
    "#Create a freq using the Class\n",
    "from pandas.tseries.holiday import AbstractHolidayCalendar, Holiday, nearest_workday\n",
    "class MyCustomMade(AbstractHolidayCalendar):\n",
    "    rules = [\n",
    "        Holiday('Happy Birthday', month=7, day=12, observance=nearest_workday)\n",
    "    ]\n",
    "Mcm = CustomBusinessDay(calendar=MyCustomMade())"
   ]
  },
  {
   "cell_type": "code",
   "execution_count": 35,
   "metadata": {},
   "outputs": [
    {
     "data": {
      "text/plain": [
       "DatetimeIndex(['2017-07-03', '2017-07-04', '2017-07-05', '2017-07-06',\n",
       "               '2017-07-07', '2017-07-10', '2017-07-11', '2017-07-13',\n",
       "               '2017-07-14', '2017-07-17', '2017-07-18', '2017-07-19',\n",
       "               '2017-07-20', '2017-07-21'],\n",
       "              dtype='datetime64[ns]', freq='C')"
      ]
     },
     "execution_count": 35,
     "metadata": {},
     "output_type": "execute_result"
    }
   ],
   "source": [
    "#STEP2: Use freq created in a date range\n",
    "rng = pd.date_range(start='7/1/2017', end='7/21/2017', freq=Mcm)\n",
    "rng\n",
    "#STEP3: set that date range as index in dataframe"
   ]
  },
  {
   "cell_type": "code",
   "execution_count": 39,
   "metadata": {},
   "outputs": [
    {
     "data": {
      "text/plain": [
       "DatetimeIndex(['2017-07-02', '2017-07-03', '2017-07-04', '2017-07-05',\n",
       "               '2017-07-06', '2017-07-09', '2017-07-10', '2017-07-11',\n",
       "               '2017-07-12', '2017-07-13', '2017-07-16', '2017-07-17',\n",
       "               '2017-07-18', '2017-07-19', '2017-07-20'],\n",
       "              dtype='datetime64[ns]', freq='C')"
      ]
     },
     "execution_count": 39,
     "metadata": {},
     "output_type": "execute_result"
    }
   ],
   "source": [
    "'''\n",
    "For creating business days with Fri Sat as weekends. By default CustomBusinessClass has weekmask of m,t,w,t,f,s. \n",
    "We change that:\n",
    "'''\n",
    "n = CustomBusinessDay(weekmask='Sun Mon Tue Wed Thu')\n",
    "rng = pd.date_range(start='7/1/2017', end='7/21/2017', freq=n)\n",
    "rng"
   ]
  },
  {
   "cell_type": "code",
   "execution_count": 46,
   "metadata": {},
   "outputs": [
    {
     "data": {
      "text/plain": [
       "DatetimeIndex(['2017-07-02', '2017-07-03', '2017-07-04', '2017-07-05',\n",
       "               '2017-07-06', '2017-07-09', '2017-07-12', '2017-07-13',\n",
       "               '2017-07-16', '2017-07-17', '2017-07-18', '2017-07-19',\n",
       "               '2017-07-20'],\n",
       "              dtype='datetime64[ns]', freq='C')"
      ]
     },
     "execution_count": 46,
     "metadata": {},
     "output_type": "execute_result"
    }
   ],
   "source": [
    "#holidays argument can also be used in CustomBusinessDay as alist\n",
    "n = CustomBusinessDay(weekmask='Sun Mon Tue Wed Thu', holidays=['2017-07-10', '2017-07-11'])\n",
    "rng = pd.date_range(start='7/1/2017', end='7/21/2017', freq=n)\n",
    "rng"
   ]
  }
 ],
 "metadata": {
  "kernelspec": {
   "display_name": "Python 3",
   "language": "python",
   "name": "python3"
  },
  "language_info": {
   "codemirror_mode": {
    "name": "ipython",
    "version": 3
   },
   "file_extension": ".py",
   "mimetype": "text/x-python",
   "name": "python",
   "nbconvert_exporter": "python",
   "pygments_lexer": "ipython3",
   "version": "3.7.3"
  }
 },
 "nbformat": 4,
 "nbformat_minor": 2
}
