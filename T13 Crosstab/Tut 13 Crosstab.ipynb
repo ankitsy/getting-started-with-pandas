{
 "cells": [
  {
   "cell_type": "code",
   "execution_count": 1,
   "metadata": {},
   "outputs": [
    {
     "data": {
      "text/plain": [
       "'Cross Table or Contingency Tabel\": a table showing the distribution of one variable in rows and another in \\ncolumns, used to study the correlation between the two variables.'"
      ]
     },
     "execution_count": 1,
     "metadata": {},
     "output_type": "execute_result"
    }
   ],
   "source": [
    "'''Cross Table or Contingency Tabel\": a table showing the distribution of one variable in rows and another in \n",
    "columns, used to study the correlation between the two variables. For Example'''\n",
    "\n",
    "pd.crosstab(df.nationality, df.handedness, margins=True) #margins=True will give the total vertically and horizontally. \n",
    "#First one is for rows, second one is for columns\n",
    "\n",
    "#or\n",
    "\n",
    "pd.crosstab(df.nationality, [df.handedness,df.sex], margins=True)\n",
    "\n",
    "#or\n",
    "\n",
    "pd.crosstab([df.nationality, df.handedness], df.sex, margins=True)\n",
    "\n",
    "# normalize='index' is used to show percentage\n",
    "pd.crosstab(df.nationality, df.handedness, margins=True, normalize='index')\n"
   ]
  },
  {
   "cell_type": "code",
   "execution_count": null,
   "metadata": {},
   "outputs": [],
   "source": [
    "import numpy as np\n",
    "pd.crosstab([df.nationality], [df.handedness], value=df.age, aggfunc=np.average) \n",
    "# this will give avg age values in table with rows as nationality and columns as handedness\n"
   ]
  }
 ],
 "metadata": {
  "kernelspec": {
   "display_name": "Python 3",
   "language": "python",
   "name": "python3"
  },
  "language_info": {
   "codemirror_mode": {
    "name": "ipython",
    "version": 3
   },
   "file_extension": ".py",
   "mimetype": "text/x-python",
   "name": "python",
   "nbconvert_exporter": "python",
   "pygments_lexer": "ipython3",
   "version": "3.7.3"
  }
 },
 "nbformat": 4,
 "nbformat_minor": 2
}
