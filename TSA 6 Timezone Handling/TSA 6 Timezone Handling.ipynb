{
 "cells": [
  {
   "cell_type": "code",
   "execution_count": null,
   "metadata": {},
   "outputs": [],
   "source": [
    "'''\n",
    "There are 2 types of DateTime objects in Python:\n",
    "1. Naive (no timezone awareness)\n",
    "2. Time zine aware\n",
    "\n",
    "-----\n",
    "1. Convert Naive to Time zone aware datetime using tz_localize command \n",
    "tz_localize has to be assigned to a dataframe for it to work\n",
    "2. Convert the above time in Berlin time zone using tz_convert\n",
    "YOU CAN USE CONVERT AFTER LOCALIZE\n",
    "3. tz='' value can be found out from :from pytz import all_timezones\n",
    "4. you can apply tz_convert to the whole df or just the df.index\n",
    "5. Using timezone in date_range fucntion\n",
    "6. date_range can accept 2 types of timezones:\n",
    "    =pytz, which has all predefined timezones\n",
    "    =dateutil, whoch uses datetime available on your computer\n",
    "7. Doing Arethemetics in Time series\n",
    "    -create time series with random numbers\n",
    "    -loicalize for berlin,\n",
    "    -then for mumbai,\n",
    "    - them sum both series - it will convert all of them to UTC 00:00 and do the aritnmetic for all the timepoints which got matched\n",
    "'''"
   ]
  },
  {
   "cell_type": "code",
   "execution_count": 20,
   "metadata": {},
   "outputs": [
    {
     "data": {
      "text/html": [
       "<div>\n",
       "<style scoped>\n",
       "    .dataframe tbody tr th:only-of-type {\n",
       "        vertical-align: middle;\n",
       "    }\n",
       "\n",
       "    .dataframe tbody tr th {\n",
       "        vertical-align: top;\n",
       "    }\n",
       "\n",
       "    .dataframe thead th {\n",
       "        text-align: right;\n",
       "    }\n",
       "</style>\n",
       "<table border=\"1\" class=\"dataframe\">\n",
       "  <thead>\n",
       "    <tr style=\"text-align: right;\">\n",
       "      <th></th>\n",
       "      <th>Price</th>\n",
       "    </tr>\n",
       "    <tr>\n",
       "      <th>Date Time</th>\n",
       "      <th></th>\n",
       "    </tr>\n",
       "  </thead>\n",
       "  <tbody>\n",
       "    <tr>\n",
       "      <th>2017-08-17 09:00:00</th>\n",
       "      <td>72.38</td>\n",
       "    </tr>\n",
       "    <tr>\n",
       "      <th>2017-08-17 09:15:00</th>\n",
       "      <td>71.00</td>\n",
       "    </tr>\n",
       "    <tr>\n",
       "      <th>2017-08-17 09:30:00</th>\n",
       "      <td>71.67</td>\n",
       "    </tr>\n",
       "    <tr>\n",
       "      <th>2017-08-17 10:00:00</th>\n",
       "      <td>72.80</td>\n",
       "    </tr>\n",
       "    <tr>\n",
       "      <th>2017-08-17 10:30:00</th>\n",
       "      <td>73.00</td>\n",
       "    </tr>\n",
       "    <tr>\n",
       "      <th>2017-08-17 11:00:00</th>\n",
       "      <td>72.50</td>\n",
       "    </tr>\n",
       "  </tbody>\n",
       "</table>\n",
       "</div>"
      ],
      "text/plain": [
       "                     Price\n",
       "Date Time                 \n",
       "2017-08-17 09:00:00  72.38\n",
       "2017-08-17 09:15:00  71.00\n",
       "2017-08-17 09:30:00  71.67\n",
       "2017-08-17 10:00:00  72.80\n",
       "2017-08-17 10:30:00  73.00\n",
       "2017-08-17 11:00:00  72.50"
      ]
     },
     "execution_count": 20,
     "metadata": {},
     "output_type": "execute_result"
    }
   ],
   "source": [
    "import pandas as pd\n",
    "df = pd.read_csv('msft.csv', header=1, index_col='Date Time', parse_dates=True)\n",
    "df"
   ]
  },
  {
   "cell_type": "code",
   "execution_count": 23,
   "metadata": {},
   "outputs": [
    {
     "data": {
      "text/plain": [
       "DatetimeIndex(['2017-08-17 09:00:00', '2017-08-17 09:15:00',\n",
       "               '2017-08-17 09:30:00', '2017-08-17 10:00:00',\n",
       "               '2017-08-17 10:30:00', '2017-08-17 11:00:00'],\n",
       "              dtype='datetime64[ns]', name='Date Time', freq=None)"
      ]
     },
     "execution_count": 23,
     "metadata": {},
     "output_type": "execute_result"
    }
   ],
   "source": [
    "df.index # here values are naive, we will change it to US/Eastern"
   ]
  },
  {
   "cell_type": "code",
   "execution_count": 24,
   "metadata": {},
   "outputs": [
    {
     "data": {
      "text/plain": [
       "DatetimeIndex(['2017-08-17 09:00:00-04:00', '2017-08-17 09:15:00-04:00',\n",
       "               '2017-08-17 09:30:00-04:00', '2017-08-17 10:00:00-04:00',\n",
       "               '2017-08-17 10:30:00-04:00', '2017-08-17 11:00:00-04:00'],\n",
       "              dtype='datetime64[ns, US/Eastern]', name='Date Time', freq=None)"
      ]
     },
     "execution_count": 24,
     "metadata": {},
     "output_type": "execute_result"
    }
   ],
   "source": [
    "df.index = df.index.tz_localize(tz='US/Eastern') # now it is localized for US/Eastern\n",
    "df.index"
   ]
  },
  {
   "cell_type": "code",
   "execution_count": 36,
   "metadata": {},
   "outputs": [
    {
     "data": {
      "text/plain": [
       "DatetimeIndex(['2017-08-17 15:00:00+02:00', '2017-08-17 15:15:00+02:00',\n",
       "               '2017-08-17 15:30:00+02:00', '2017-08-17 16:00:00+02:00',\n",
       "               '2017-08-17 16:30:00+02:00', '2017-08-17 17:00:00+02:00'],\n",
       "              dtype='datetime64[ns, Europe/Berlin]', name='Date Time', freq=None)"
      ]
     },
     "execution_count": 36,
     "metadata": {},
     "output_type": "execute_result"
    }
   ],
   "source": [
    "df.index = df.index.tz_convert(tz='Europe/Berlin') # now US/Eastern is converted to Berlin\n",
    "df.index"
   ]
  },
  {
   "cell_type": "code",
   "execution_count": 31,
   "metadata": {},
   "outputs": [],
   "source": [
    "from pytz import all_timezones"
   ]
  },
  {
   "cell_type": "code",
   "execution_count": 42,
   "metadata": {},
   "outputs": [
    {
     "data": {
      "text/plain": [
       "DatetimeIndex(['2019-01-05 00:00:00+05:30', '2019-01-05 01:00:00+05:30',\n",
       "               '2019-01-05 02:00:00+05:30', '2019-01-05 03:00:00+05:30',\n",
       "               '2019-01-05 04:00:00+05:30', '2019-01-05 05:00:00+05:30',\n",
       "               '2019-01-05 06:00:00+05:30', '2019-01-05 07:00:00+05:30',\n",
       "               '2019-01-05 08:00:00+05:30', '2019-01-05 09:00:00+05:30'],\n",
       "              dtype='datetime64[ns, tzfile('Asia/Calcutta')]', freq='H')"
      ]
     },
     "execution_count": 42,
     "metadata": {},
     "output_type": "execute_result"
    }
   ],
   "source": [
    "#5. Using timezone in date_range fucntion\n",
    "rng = pd.date_range(start='1/5/2019',periods=10, freq='H', tz='dateutil/Asia/Calcutta')\n",
    "rng"
   ]
  },
  {
   "cell_type": "code",
   "execution_count": 70,
   "metadata": {},
   "outputs": [
    {
     "data": {
      "text/plain": [
       "2019-01-05 00:00:00    0\n",
       "2019-01-05 00:30:00    1\n",
       "2019-01-05 01:00:00    2\n",
       "2019-01-05 01:30:00    3\n",
       "2019-01-05 02:00:00    4\n",
       "2019-01-05 02:30:00    5\n",
       "2019-01-05 03:00:00    6\n",
       "2019-01-05 03:30:00    7\n",
       "2019-01-05 04:00:00    8\n",
       "2019-01-05 04:30:00    9\n",
       "Freq: 30T, dtype: int64"
      ]
     },
     "execution_count": 70,
     "metadata": {},
     "output_type": "execute_result"
    }
   ],
   "source": [
    "'''\n",
    "7. Doing Arethemetics in Time series\n",
    "    -create time series with random numbers\n",
    "    -loicalize for berlin,\n",
    "    -then for mumbai,\n",
    "    - them sum both series - \n",
    "it will convert all of them to UTC 00:00 and do the aritnmetic for all the timepoints which got matched\n",
    "'''\n",
    "rng = pd.date_range(start='1/5/2019',periods=10, freq='30min')\n",
    "s = pd.Series(range(10), index=rng)\n",
    "s"
   ]
  },
  {
   "cell_type": "code",
   "execution_count": 71,
   "metadata": {},
   "outputs": [
    {
     "data": {
      "text/plain": [
       "2019-01-05 00:00:00+01:00    0\n",
       "2019-01-05 00:30:00+01:00    1\n",
       "2019-01-05 01:00:00+01:00    2\n",
       "2019-01-05 01:30:00+01:00    3\n",
       "2019-01-05 02:00:00+01:00    4\n",
       "2019-01-05 02:30:00+01:00    5\n",
       "2019-01-05 03:00:00+01:00    6\n",
       "2019-01-05 03:30:00+01:00    7\n",
       "2019-01-05 04:00:00+01:00    8\n",
       "2019-01-05 04:30:00+01:00    9\n",
       "Freq: 30T, dtype: int64"
      ]
     },
     "execution_count": 71,
     "metadata": {},
     "output_type": "execute_result"
    }
   ],
   "source": [
    "b = s.tz_localize(tz='Europe/Berlin')\n",
    "b"
   ]
  },
  {
   "cell_type": "code",
   "execution_count": 72,
   "metadata": {},
   "outputs": [
    {
     "data": {
      "text/plain": [
       "2019-01-05 00:00:00+05:30    0\n",
       "2019-01-05 00:30:00+05:30    1\n",
       "2019-01-05 01:00:00+05:30    2\n",
       "2019-01-05 01:30:00+05:30    3\n",
       "2019-01-05 02:00:00+05:30    4\n",
       "2019-01-05 02:30:00+05:30    5\n",
       "2019-01-05 03:00:00+05:30    6\n",
       "2019-01-05 03:30:00+05:30    7\n",
       "2019-01-05 04:00:00+05:30    8\n",
       "2019-01-05 04:30:00+05:30    9\n",
       "Freq: 30T, dtype: int64"
      ]
     },
     "execution_count": 72,
     "metadata": {},
     "output_type": "execute_result"
    }
   ],
   "source": [
    "m = s.tz_localize(tz='Asia/Calcutta')\n",
    "m"
   ]
  },
  {
   "cell_type": "code",
   "execution_count": 73,
   "metadata": {},
   "outputs": [
    {
     "data": {
      "text/plain": [
       "2019-01-04 18:30:00+00:00    NaN\n",
       "2019-01-04 19:00:00+00:00    NaN\n",
       "2019-01-04 19:30:00+00:00    NaN\n",
       "2019-01-04 20:00:00+00:00    NaN\n",
       "2019-01-04 20:30:00+00:00    NaN\n",
       "2019-01-04 21:00:00+00:00    NaN\n",
       "2019-01-04 21:30:00+00:00    NaN\n",
       "2019-01-04 22:00:00+00:00    NaN\n",
       "2019-01-04 22:30:00+00:00    NaN\n",
       "2019-01-04 23:00:00+00:00    9.0\n",
       "2019-01-04 23:30:00+00:00    NaN\n",
       "2019-01-05 00:00:00+00:00    NaN\n",
       "2019-01-05 00:30:00+00:00    NaN\n",
       "2019-01-05 01:00:00+00:00    NaN\n",
       "2019-01-05 01:30:00+00:00    NaN\n",
       "2019-01-05 02:00:00+00:00    NaN\n",
       "2019-01-05 02:30:00+00:00    NaN\n",
       "2019-01-05 03:00:00+00:00    NaN\n",
       "2019-01-05 03:30:00+00:00    NaN\n",
       "Freq: 30T, dtype: float64"
      ]
     },
     "execution_count": 73,
     "metadata": {},
     "output_type": "execute_result"
    }
   ],
   "source": [
    "b + m"
   ]
  }
 ],
 "metadata": {
  "kernelspec": {
   "display_name": "Python 3",
   "language": "python",
   "name": "python3"
  },
  "language_info": {
   "codemirror_mode": {
    "name": "ipython",
    "version": 3
   },
   "file_extension": ".py",
   "mimetype": "text/x-python",
   "name": "python",
   "nbconvert_exporter": "python",
   "pygments_lexer": "ipython3",
   "version": "3.7.3"
  }
 },
 "nbformat": 4,
 "nbformat_minor": 2
}
